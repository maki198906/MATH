{
 "cells": [
  {
   "cell_type": "markdown",
   "metadata": {
    "colab_type": "text",
    "id": "hTHl3kyDWIGO"
   },
   "source": [
    "# Математики для data science.\n",
    "# Домашнее задание 1."
   ]
  },
  {
   "cell_type": "markdown",
   "metadata": {
    "colab_type": "text",
    "id": "OAJG6826Pnft"
   },
   "source": [
    "**Задание на отображение множеств.**"
   ]
  },
  {
   "cell_type": "code",
   "execution_count": 1,
   "metadata": {},
   "outputs": [],
   "source": [
    "import numpy as np\n",
    "import matplotlib.pyplot as plt\n",
    "import pandas as pd\n",
    "%matplotlib inline"
   ]
  },
  {
   "cell_type": "markdown",
   "metadata": {
    "colab_type": "text",
    "id": "lHtJSvE3Pt9i"
   },
   "source": [
    "**Задание 1.**"
   ]
  },
  {
   "cell_type": "markdown",
   "metadata": {
    "colab_type": "text",
    "id": "pRTF1ROCPxoR"
   },
   "source": [
    "Написать функцию отображения элементов одного множества в другое. Первое множество - художники, второе множество - картины художников.\n",
    "Множество художников - Серов, Левитан, Репин, Васнецов, Шишкин. \n",
    "Множество картин - \"Утро в сосновом бору\", \"Богатыри\", \"Золотая осень\", \"Девочка с персиками\", \"Запорожцы\", \"Буралки на Волге\", \"Март\", \"Алёнушка\". \n"
   ]
  },
  {
   "cell_type": "code",
   "execution_count": 2,
   "metadata": {},
   "outputs": [],
   "source": [
    "art_w = set(['Серов', 'Левитан', 'Репин', 'Васнецов', 'Шишкин'])"
   ]
  },
  {
   "cell_type": "code",
   "execution_count": 3,
   "metadata": {},
   "outputs": [],
   "source": [
    "art_p = set(['Утро в сосновом бору', 'Богатыри', 'Золотая осень', \n",
    "             'Девочка с персиками', 'Запорожцы','Буралки на Волге','Март','Алёнушка'])"
   ]
  },
  {
   "cell_type": "code",
   "execution_count": 4,
   "metadata": {},
   "outputs": [],
   "source": [
    "dict_autors = dict()\n",
    "dict_autors['Серов'] = ['Девочка с персиками']\n",
    "dict_autors['Шишкин'] = ['Утро в сосновом бору']\n",
    "dict_autors['Васнецов'] = ['Богатыри','Алёнушка']\n",
    "dict_autors['Левитан'] = ['Золотая осень','Март']\n",
    "dict_autors['Репин'] = ['Запорожцы','Буралки на Волге']"
   ]
  },
  {
   "cell_type": "code",
   "execution_count": 5,
   "metadata": {},
   "outputs": [
    {
     "name": "stdout",
     "output_type": "stream",
     "text": [
      "Репин: Запорожцы, Буралки на Волге, \n",
      "Левитан: Золотая осень, Март, \n",
      "Серов: Девочка с персиками, \n",
      "Васнецов: Богатыри, Алёнушка, \n",
      "Шишкин: Утро в сосновом бору, \n"
     ]
    }
   ],
   "source": [
    "for i in art_w.intersection(dict_autors):\n",
    "    arts = ''\n",
    "    for paintings in dict_autors[i]:\n",
    "        arts += paintings + ', '\n",
    "    print(i + ': '+ arts)"
   ]
  },
  {
   "cell_type": "markdown",
   "metadata": {
    "colab_type": "text",
    "id": "4QwS5m7CWXY3"
   },
   "source": [
    "**Полиномиальные функции.**"
   ]
  },
  {
   "cell_type": "markdown",
   "metadata": {
    "colab_type": "text",
    "id": "thQjcSL7WbIY"
   },
   "source": [
    "**Задание 2**. Найти из следующих функций те, которые являются полиномиальной функцией."
   ]
  },
  {
   "cell_type": "markdown",
   "metadata": {
    "colab_type": "text",
    "id": "GbDQjj-pWjqm"
   },
   "source": [
    "*  $$f(x)=\\frac{1}{2}x^{6}-1\\frac{5}{6}x+\\frac{1}{3}$$\n",
    "*  $$f(x)=\\frac{3x^{6}-11x+2}{6}$$\n",
    "*  $$f(x)=\\frac{3x^{6}-11x+2}{6x}$$\n",
    "*  $$f(x)=x^{5}-3x^{2}+7x^{-2}$$\n",
    "*  $$f(x)=(5x^{2}-2)^3-\\frac{1}{2}x^{3}$$\n",
    "*  $$f(x)=(1+\\sqrt{x})^{3}-5(1+\\sqrt{x})$$\n",
    "*  $$f(x)=\\pi $$\n",
    "\n"
   ]
  },
  {
   "cell_type": "code",
   "execution_count": 6,
   "metadata": {},
   "outputs": [
    {
     "name": "stdout",
     "output_type": "stream",
     "text": [
      "Polynom: 1, 2, 5, 7\n"
     ]
    }
   ],
   "source": [
    "print('Polynom: 1, 2, 5, 7')"
   ]
  },
  {
   "cell_type": "markdown",
   "metadata": {
    "colab_type": "text",
    "id": "2SOZDLZQW9vK"
   },
   "source": [
    "**Задание 3**. Раскрыть скобки для следующего полинома $$(2x+1)^{2}(x-1)-x(4x^{2}-1)-x(4x^{2}-1)=ax^3+bx^2+cx+d$$ найти коэффициенты для a, b, c, d."
   ]
  },
  {
   "cell_type": "markdown",
   "metadata": {},
   "source": [
    "$$ a = -4,\n",
    "   b = 0,\n",
    "   c = -1,\n",
    "   d = 0$$"
   ]
  },
  {
   "cell_type": "markdown",
   "metadata": {
    "colab_type": "text",
    "id": "FW0p4xjzIdRZ"
   },
   "source": [
    "Для данного задания полезно использовать следующие формулы сокращенного умножения:\n",
    "![alt text](https://sun9-38.userapi.com/c851232/v851232044/19c5b0/7Yy6qz-MUHA.jpg)"
   ]
  },
  {
   "cell_type": "markdown",
   "metadata": {
    "colab_type": "text",
    "id": "hETFA0bzXYdw"
   },
   "source": [
    "Чему равна степень полинома?"
   ]
  },
  {
   "cell_type": "markdown",
   "metadata": {},
   "source": [
    "$$ -4x^{3}-x-1 $$"
   ]
  },
  {
   "cell_type": "markdown",
   "metadata": {
    "colab_type": "text",
    "id": "EH8FFbsvt64f"
   },
   "source": [
    "Нарисовать график для полинома."
   ]
  },
  {
   "cell_type": "code",
   "execution_count": 7,
   "metadata": {
    "colab": {},
    "colab_type": "code",
    "id": "wk89rocGSoYC"
   },
   "outputs": [
    {
     "data": {
      "image/png": "[encoded data removed]",
      "text/plain": [
       "<Figure size 432x288 with 1 Axes>"
      ]
     },
     "metadata": {
      "image/png": {
       "height": 277,
       "width": 399
      },
      "needs_background": "light"
     },
     "output_type": "display_data"
    }
   ],
   "source": [
    "%config InlineBackend.figure_format = 'retina'\n",
    "def func(x):\n",
    "    return -4 * x**3 - x - 1\n",
    "  \n",
    "# создаем вектор x\n",
    "x1 = np.linspace(-3.0, 3.0, 100)\n",
    "# на основе вектора x строим значения для вектора y\n",
    "y1 = [func(x1[i]) for i in range(len(x1))]\n",
    "\n",
    "plt.plot(x1, y1)\n",
    "plt.title('График функции')\n",
    "plt.ylabel('y')\n",
    "plt.xlabel('x')\n",
    "\n",
    "plt.show()"
   ]
  },
  {
   "cell_type": "markdown",
   "metadata": {
    "colab_type": "text",
    "id": "YnGld7mvZNUB"
   },
   "source": [
    "**Задание 3**.\n",
    "Для заданных функций найти подходящий график (не все функции имеют график):\n",
    "$\\frac{3}{4}x-1$,  $\\frac{3}{4}x+2$, $2-2x$, $2+2x$, $\\frac{1}{4}(x+1)^{2}-2 $, $\\frac{1}{4}(x-1)^2-2$, $(x-1)(x-3)$, $(x+1)(x+3)$, $2-x^2$, $2-\\frac{1}{4}x^2$"
   ]
  },
  {
   "cell_type": "markdown",
   "metadata": {},
   "source": [
    "задание можно решить без построения"
   ]
  },
  {
   "cell_type": "markdown",
   "metadata": {
    "colab_type": "text",
    "id": "8TCnR4urZX_A"
   },
   "source": [
    "![alt text](https://pp.userapi.com/c855532/v855532908/aadd4/uWjIZGDfw0s.jpg)"
   ]
  },
  {
   "cell_type": "markdown",
   "metadata": {},
   "source": [
    "$\\frac{3}{4}x-1$ - второй график снизу (пересечение с осью y в -1)"
   ]
  },
  {
   "cell_type": "markdown",
   "metadata": {},
   "source": [
    "$\\frac{3}{4}x+2$ - отсутствует"
   ]
  },
  {
   "cell_type": "markdown",
   "metadata": {},
   "source": [
    "$2+2x$ - первый график в первом ряду"
   ]
  },
  {
   "cell_type": "markdown",
   "metadata": {},
   "source": [
    "$2+2x$ - отсутствует"
   ]
  },
  {
   "cell_type": "markdown",
   "metadata": {},
   "source": [
    "$\\frac{1}{4}(x+1)^2-2$ - первый во втором ряду"
   ]
  },
  {
   "cell_type": "markdown",
   "metadata": {},
   "source": [
    "$\\frac{1}{4}(x-1)^2-2$ - отсутствует"
   ]
  },
  {
   "cell_type": "markdown",
   "metadata": {},
   "source": [
    "$(x-1)(x-3)$ - третий во вотором ряду"
   ]
  },
  {
   "cell_type": "markdown",
   "metadata": {},
   "source": [
    "$(x+1)(x+3)$ - отсутствует"
   ]
  },
  {
   "cell_type": "markdown",
   "metadata": {},
   "source": [
    "$2-x^2$ - третий в первом ряду"
   ]
  },
  {
   "cell_type": "markdown",
   "metadata": {},
   "source": [
    "$2-\\frac{1}{4}x^2$ - второй в первом ряду"
   ]
  },
  {
   "cell_type": "markdown",
   "metadata": {
    "colab_type": "text",
    "id": "v4PsJSrlbGni"
   },
   "source": [
    "**Задание 4.** Найти минимальную степень следующего полинома:\n",
    "\n",
    "![alt text](https://pp.userapi.com/c855532/v855532908/aadcd/PZdPYTQT02A.jpg)"
   ]
  },
  {
   "cell_type": "markdown",
   "metadata": {},
   "source": [
    "### Минимальная степень 5, т,к, 5 пересечений с осью х"
   ]
  },
  {
   "cell_type": "markdown",
   "metadata": {
    "colab_type": "text",
    "id": "In-LISkBGJ1u"
   },
   "source": [
    "**Задания повышенного уровня**"
   ]
  },
  {
   "cell_type": "markdown",
   "metadata": {
    "colab_type": "text",
    "id": "FGmhJtvceZO6"
   },
   "source": [
    "Почему следующие функции не являются полиномиальными?\n",
    "$$y=5x^{-2}+1$$\n",
    "$$y=3x^{1/2}+2$$\n",
    "$$y=(5x+1)/(3x)$$"
   ]
  },
  {
   "cell_type": "markdown",
   "metadata": {},
   "source": [
    "### В 1 и 3 случаях - отрицательная степень \"икса\", во 2 - дробная степень."
   ]
  },
  {
   "cell_type": "markdown",
   "metadata": {
    "colab_type": "text",
    "id": "XyzbTtgEezLl"
   },
   "source": [
    "Найдите наибольшее и наименьшее значение функции $y = x^3 + 2x^2 + x + 3 $ на отрезке [-4;-1]. "
   ]
  },
  {
   "cell_type": "code",
   "execution_count": 8,
   "metadata": {},
   "outputs": [
    {
     "data": {
      "image/png": "[encoded data removed]",
      "text/plain": [
       "<Figure size 432x288 with 1 Axes>"
      ]
     },
     "metadata": {
      "image/png": {
       "height": 250,
       "width": 379
      },
      "needs_background": "light"
     },
     "output_type": "display_data"
    }
   ],
   "source": [
    "x = np.linspace(-4.0, -1.0, 100)\n",
    "y = lambda x: x**3 + 2*x**2 + x + 3\n",
    "\n",
    "plt.plot(x, y(x))\n",
    "plt.show()"
   ]
  },
  {
   "cell_type": "code",
   "execution_count": 9,
   "metadata": {},
   "outputs": [],
   "source": [
    "max_f = y(x)[np.argmax(y(x))]"
   ]
  },
  {
   "cell_type": "code",
   "execution_count": 10,
   "metadata": {},
   "outputs": [],
   "source": [
    "min_f = y(x)[np.argmin(y(x))]"
   ]
  },
  {
   "cell_type": "code",
   "execution_count": 11,
   "metadata": {},
   "outputs": [
    {
     "name": "stdout",
     "output_type": "stream",
     "text": [
      "Max - 3.0, Min - -33.0\n"
     ]
    }
   ],
   "source": [
    "print('Max - {}, Min - {}'.format(max_f,min_f))"
   ]
  },
  {
   "cell_type": "markdown",
   "metadata": {
    "colab_type": "text",
    "id": "zZwKoyIwf4SV"
   },
   "source": [
    "Пример линейной регрессии - это применение полиномов на практике. В следующем примере дан датасет x, y, сгенерированный рандомно. Мы можем использовать линейную регрессию, чтобы предсказать значение переменной y от x. "
   ]
  },
  {
   "cell_type": "code",
   "execution_count": 12,
   "metadata": {
    "colab": {
     "base_uri": "https://localhost:8080/",
     "height": 269
    },
    "colab_type": "code",
    "id": "wyWYYrGnWHVk",
    "outputId": "85df8263-3022-4a15-8a64-204ec3ec56a6"
   },
   "outputs": [
    {
     "data": {
      "image/png": "[encoded data removed]",
      "text/plain": [
       "<Figure size 432x288 with 1 Axes>"
      ]
     },
     "metadata": {
      "image/png": {
       "height": 250,
       "width": 385
      },
      "needs_background": "light"
     },
     "output_type": "display_data"
    }
   ],
   "source": [
    "import numpy as np\n",
    "import matplotlib.pyplot as plt\n",
    "\n",
    "from sklearn.linear_model import LinearRegression\n",
    "\n",
    "np.random.seed(0)\n",
    "x = 2 - 3 * np.random.normal(0, 1, 20)\n",
    "y = x - 2 * (x ** 2) + 0.5 * (x ** 3) + np.random.normal(-3, 3, 20)\n",
    "\n",
    "# transforming the data to include another axis\n",
    "x = x[:, np.newaxis]\n",
    "y = y[:, np.newaxis]\n",
    "\n",
    "model = LinearRegression()\n",
    "model.fit(x, y)\n",
    "y_pred = model.predict(x)\n",
    "\n",
    "plt.scatter(x, y, s=10)\n",
    "plt.plot(x, y_pred, color='r')\n",
    "plt.show()"
   ]
  },
  {
   "cell_type": "markdown",
   "metadata": {
    "colab_type": "text",
    "id": "_jdDSF1KhGCA"
   },
   "source": [
    "В данном примере найден полином первой степени. Как можно улучшить данную модель? Написать пример. "
   ]
  },
  {
   "cell_type": "markdown",
   "metadata": {},
   "source": [
    "### улучшить можно повышая степень полинома"
   ]
  },
  {
   "cell_type": "code",
   "execution_count": 13,
   "metadata": {},
   "outputs": [
    {
     "data": {
      "image/png": "[encoded data removed]",
      "text/plain": [
       "<Figure size 432x288 with 1 Axes>"
      ]
     },
     "metadata": {
      "image/png": {
       "height": 250,
       "width": 385
      },
      "needs_background": "light"
     },
     "output_type": "display_data"
    }
   ],
   "source": [
    "from sklearn.preprocessing import PolynomialFeatures \n",
    "  \n",
    "poly = PolynomialFeatures(degree = 2) \n",
    "X_poly = poly.fit_transform(x) \n",
    "  \n",
    "poly.fit(X_poly, y) \n",
    "lin2 = LinearRegression()\n",
    "model = lin2.fit(X_poly, y) \n",
    "y_pred = model.predict(poly.fit_transform(x))\n",
    "\n",
    "plt.scatter(x, y, s=10)\n",
    "plt.scatter(x, y_pred, marker='o', s=10)\n",
    "plt.show()"
   ]
  },
  {
   "cell_type": "code",
   "execution_count": 14,
   "metadata": {},
   "outputs": [
    {
     "data": {
      "image/png": "[encoded data removed]",
      "text/plain": [
       "<Figure size 432x288 with 1 Axes>"
      ]
     },
     "metadata": {
      "image/png": {
       "height": 250,
       "width": 385
      },
      "needs_background": "light"
     },
     "output_type": "display_data"
    }
   ],
   "source": [
    "from sklearn.preprocessing import PolynomialFeatures \n",
    "  \n",
    "poly = PolynomialFeatures(degree = 3) \n",
    "X_poly = poly.fit_transform(x) \n",
    "  \n",
    "poly.fit(X_poly, y) \n",
    "lin2 = LinearRegression()\n",
    "model = lin2.fit(X_poly, y) \n",
    "y_pred = model.predict(poly.fit_transform(x))\n",
    "\n",
    "plt.scatter(x, y, s=10)\n",
    "plt.scatter(x, y_pred, marker='o', s=10)\n",
    "plt.show()"
   ]
  },
  {
   "cell_type": "code",
   "execution_count": 15,
   "metadata": {},
   "outputs": [
    {
     "data": {
      "image/png": "[encoded data removed]",
      "text/plain": [
       "<Figure size 432x288 with 1 Axes>"
      ]
     },
     "metadata": {
      "image/png": {
       "height": 250,
       "width": 385
      },
      "needs_background": "light"
     },
     "output_type": "display_data"
    }
   ],
   "source": [
    "from sklearn.preprocessing import PolynomialFeatures \n",
    "  \n",
    "poly = PolynomialFeatures(degree = 4) \n",
    "X_poly = poly.fit_transform(x) \n",
    "  \n",
    "poly.fit(X_poly, y) \n",
    "lin2 = LinearRegression()\n",
    "model = lin2.fit(X_poly, y) \n",
    "y_pred = model.predict(poly.fit_transform(x))\n",
    "\n",
    "plt.scatter(x, y, s=10)\n",
    "plt.scatter(x, y_pred, marker='o', s=10)\n",
    "plt.show()"
   ]
  },
  {
   "cell_type": "markdown",
   "metadata": {},
   "source": [
    "полином со степенью 4 достаточно апроксимирует исходные данные"
   ]
  },
  {
   "cell_type": "code",
   "execution_count": null,
   "metadata": {},
   "outputs": [],
   "source": []
  },
  {
   "cell_type": "code",
   "execution_count": null,
   "metadata": {},
   "outputs": [],
   "source": []
  }
 ],
 "metadata": {
  "colab": {
   "include_colab_link": true,
   "name": "Untitled2.ipynb",
   "provenance": [],
   "version": "0.3.2"
  },
  "kernelspec": {
   "display_name": "Python 3",
   "language": "python",
   "name": "python3"
  },
  "language_info": {
   "codemirror_mode": {
    "name": "ipython",
    "version": 3
   },
   "file_extension": ".py",
   "mimetype": "text/x-python",
   "name": "python",
   "nbconvert_exporter": "python",
   "pygments_lexer": "ipython3",
   "version": "3.6.8"
  },
  "latex_envs": {
   "LaTeX_envs_menu_present": true,
   "autoclose": false,
   "autocomplete": true,
   "bibliofile": "biblio.bib",
   "cite_by": "apalike",
   "current_citInitial": 1,
   "eqLabelWithNumbers": true,
   "eqNumInitial": 1,
   "hotkeys": {
    "equation": "Ctrl-E",
    "itemize": "Ctrl-I"
   },
   "labels_anchors": false,
   "latex_user_defs": false,
   "report_style_numbering": false,
   "user_envs_cfg": false
  }
 },
 "nbformat": 4,
 "nbformat_minor": 1
}
